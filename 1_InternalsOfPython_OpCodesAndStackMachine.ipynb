{
 "cells": [
  {
   "cell_type": "markdown",
   "metadata": {
    "slideshow": {
     "slide_type": "slide"
    }
   },
   "source": [
    "# Internals of Python pt. 1\n",
    "\n",
    "## Opcodes and The Stack Machine\n",
    "### Use CPython interpreter for Python 3.6.x"
   ]
  },
  {
   "cell_type": "markdown",
   "metadata": {
    "slideshow": {
     "slide_type": "slide"
    }
   },
   "source": [
    "# Prerequisites\n",
    "1. Good knowledge of the Python interpreter\n",
    "2. Decent knowledge of the C programming language"
   ]
  },
  {
   "cell_type": "markdown",
   "metadata": {
    "slideshow": {
     "slide_type": "slide"
    }
   },
   "source": [
    "# Refer the grammar of the language in directory `Python/Grammar/Grammar`"
   ]
  },
  {
   "cell_type": "markdown",
   "metadata": {
    "slideshow": {
     "slide_type": "slide"
    }
   },
   "source": [
    "# Dissassembling a piece of code\n",
    "\n",
    "### Let's dissassemble this piece of code"
   ]
  },
  {
   "cell_type": "code",
   "execution_count": 1,
   "metadata": {
    "slideshow": {
     "slide_type": "fragment"
    }
   },
   "outputs": [
    {
     "name": "stdout",
     "output_type": "stream",
     "text": [
      "3\n"
     ]
    }
   ],
   "source": [
    "# File: sample.py\n",
    "x = 1\n",
    "y = 2\n",
    "z = x + y\n",
    "print(z)"
   ]
  },
  {
   "cell_type": "markdown",
   "metadata": {
    "slideshow": {
     "slide_type": "fragment"
    }
   },
   "source": [
    "#### Run dissassembler on a file\n",
    "```bash\n",
    "python3 -m dis sample.py\n",
    "```"
   ]
  },
  {
   "cell_type": "markdown",
   "metadata": {
    "slideshow": {
     "slide_type": "slide"
    }
   },
   "source": [
    "## Step by step dissassembling"
   ]
  },
  {
   "cell_type": "code",
   "execution_count": 5,
   "metadata": {
    "slideshow": {
     "slide_type": "fragment"
    }
   },
   "outputs": [
    {
     "data": {
      "text/plain": [
       "['__class__',\n",
       " '__delattr__',\n",
       " '__dir__',\n",
       " '__doc__',\n",
       " '__eq__',\n",
       " '__format__',\n",
       " '__ge__',\n",
       " '__getattribute__',\n",
       " '__gt__',\n",
       " '__hash__',\n",
       " '__init__',\n",
       " '__le__',\n",
       " '__lt__',\n",
       " '__ne__',\n",
       " '__new__',\n",
       " '__reduce__',\n",
       " '__reduce_ex__',\n",
       " '__repr__',\n",
       " '__setattr__',\n",
       " '__sizeof__',\n",
       " '__str__',\n",
       " '__subclasshook__',\n",
       " 'co_argcount',\n",
       " 'co_cellvars',\n",
       " 'co_code',\n",
       " 'co_consts',\n",
       " 'co_filename',\n",
       " 'co_firstlineno',\n",
       " 'co_flags',\n",
       " 'co_freevars',\n",
       " 'co_kwonlyargcount',\n",
       " 'co_lnotab',\n",
       " 'co_name',\n",
       " 'co_names',\n",
       " 'co_nlocals',\n",
       " 'co_stacksize',\n",
       " 'co_varnames']"
      ]
     },
     "execution_count": 5,
     "metadata": {},
     "output_type": "execute_result"
    }
   ],
   "source": [
    "c = compile(open('sample.py').read(), 'sample.py', 'exec')\n",
    "dir(c)"
   ]
  },
  {
   "cell_type": "code",
   "execution_count": 6,
   "metadata": {
    "slideshow": {
     "slide_type": "slide"
    }
   },
   "outputs": [
    {
     "data": {
      "text/plain": [
       "b'd\\x00\\x00Z\\x00\\x00d\\x01\\x00Z\\x01\\x00e\\x00\\x00e\\x01\\x00\\x17Z\\x02\\x00e\\x03\\x00e\\x02\\x00\\x83\\x01\\x00\\x01d\\x02\\x00S'"
      ]
     },
     "execution_count": 6,
     "metadata": {},
     "output_type": "execute_result"
    }
   ],
   "source": [
    "c.co_code"
   ]
  },
  {
   "cell_type": "code",
   "execution_count": 9,
   "metadata": {
    "slideshow": {
     "slide_type": "slide"
    }
   },
   "outputs": [
    {
     "data": {
      "text/plain": [
       "['0x64',\n",
       " '0x0',\n",
       " '0x0',\n",
       " '0x5a',\n",
       " '0x0',\n",
       " '0x0',\n",
       " '0x64',\n",
       " '0x1',\n",
       " '0x0',\n",
       " '0x5a',\n",
       " '0x1',\n",
       " '0x0',\n",
       " '0x65',\n",
       " '0x0',\n",
       " '0x0',\n",
       " '0x65',\n",
       " '0x1',\n",
       " '0x0',\n",
       " '0x17',\n",
       " '0x5a',\n",
       " '0x2',\n",
       " '0x0',\n",
       " '0x65',\n",
       " '0x3',\n",
       " '0x0',\n",
       " '0x65',\n",
       " '0x2',\n",
       " '0x0',\n",
       " '0x83',\n",
       " '0x1',\n",
       " '0x0',\n",
       " '0x1',\n",
       " '0x64',\n",
       " '0x2',\n",
       " '0x0',\n",
       " '0x53']"
      ]
     },
     "execution_count": 9,
     "metadata": {},
     "output_type": "execute_result"
    }
   ],
   "source": [
    "[hex(byt) for byt in c.co_code]"
   ]
  },
  {
   "cell_type": "markdown",
   "metadata": {
    "slideshow": {
     "slide_type": "slide"
    }
   },
   "source": [
    "## Jumping to the interpreter source\n",
    "\n",
    "### All the opcodes are there in the file `Python/Include/Opcode.h`"
   ]
  },
  {
   "cell_type": "markdown",
   "metadata": {
    "slideshow": {
     "slide_type": "slide"
    }
   },
   "source": [
    "## Python CPU is a stack machine just like many other CPUs\n",
    "\n",
    "### Try reading the currently disassembled source code\n",
    "\n",
    "```text\n",
    "  1           0 LOAD_CONST               0 (1)\n",
    "              3 STORE_NAME               0 (x)\n",
    "\n",
    "  2           6 LOAD_CONST               1 (2)\n",
    "              9 STORE_NAME               1 (y)\n",
    "\n",
    "  3          12 LOAD_NAME                0 (x)\n",
    "             15 LOAD_NAME                1 (y)\n",
    "             18 BINARY_ADD\n",
    "             19 STORE_NAME               2 (z)\n",
    "\n",
    "  4          22 LOAD_NAME                3 (print)\n",
    "             25 LOAD_NAME                2 (z)\n",
    "             28 CALL_FUNCTION            1 (1 positional, 0 keyword pair)\n",
    "             31 POP_TOP\n",
    "             32 LOAD_CONST               2 (None)\n",
    "             35 RETURN_VALUE\n",
    "```"
   ]
  },
  {
   "cell_type": "markdown",
   "metadata": {
    "slideshow": {
     "slide_type": "slide"
    }
   },
   "source": [
    "## Read the evaluation engine or the CPU source code\n",
    "\n",
    "### Open the file `Python/Python/ceval.c`\n",
    "\n",
    "### Open the function definition for `PyObject* PyEval_EvalFrameEx(`\n",
    "\n",
    "### Default frame evaluation `_PyEval_EvalFrameDefault`"
   ]
  }
 ],
 "metadata": {
  "celltoolbar": "Slideshow",
  "kernelspec": {
   "display_name": "Python 3",
   "language": "python",
   "name": "python3"
  },
  "language_info": {
   "codemirror_mode": {
    "name": "ipython",
    "version": 3
   },
   "file_extension": ".py",
   "mimetype": "text/x-python",
   "name": "python",
   "nbconvert_exporter": "python",
   "pygments_lexer": "ipython3",
   "version": "3.5.3"
  }
 },
 "nbformat": 4,
 "nbformat_minor": 2
}
